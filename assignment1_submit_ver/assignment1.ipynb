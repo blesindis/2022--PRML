{
 "cells": [
  {
   "cell_type": "markdown",
   "metadata": {},
   "source": [
    "# Fudan RPML Assignment1: Machine Learning Meets Fashion"
   ]
  },
  {
   "cell_type": "markdown",
   "metadata": {},
   "source": [
    "![Machine Learning Meets Fashion](./img/ml_meets_fashion.jpg)"
   ]
  },
  {
   "cell_type": "markdown",
   "metadata": {},
   "source": [
    "*Your name and Student ID: 陈朦伊, 19307110382\n",
    "\n",
    "*Complete and hand in this completed worksheet (including its outputs and any supporting code outside of the worksheet, and a .pdf report file) with your assignment submission.*"
   ]
  },
  {
   "cell_type": "markdown",
   "metadata": {},
   "source": [
    "In this assignment, you will use what you have learned to tackle some pratical problems. Fashion MNIST dataset[1] is the MNIST-like fashion product database for image classification you will play with this time. It originally consists of a training set of 60000 examples and a test set of 10000 examples. Each example is a 28x28 grayscale image, associated with a label from 10 classes. \n",
    "\n",
    "To make this task more realistic (and harder:)), we selected 14600 labeled examples from the training set and did a little processing. You have to do this image classifictaion task with our new dataset. Besides, we provide you with the rest of examples (45400 examples) but with no labels, and you can consider how to use it in your experiment if needed."
   ]
  },
  {
   "cell_type": "markdown",
   "metadata": {},
   "source": [
    "You have to impletement several standard classification methods in the './fudanPRML' folder:\n",
    "- K-nearest Neighbor (10 points)\n",
    "- Decision Tree (15 points, optional)\n",
    "- Softmax (10 points)\n",
    "- SVM (15 points, optional)\n",
    "- Neural Network (20 points)    \n",
    "\n",
    "and then do your exploration (50 points)."
   ]
  },
  {
   "cell_type": "markdown",
   "metadata": {},
   "source": [
    "You can only use some basic python libraries in your experiment like numpy, np(can not use the np.nn), matplotlib and so on. And please write down the version with them in the './requirements.txt' file."
   ]
  },
  {
   "cell_type": "markdown",
   "metadata": {},
   "source": [
    "Please MAKE SURE you followed a standard ML process, like do not use the test dataset for choosing hyperparameters."
   ]
  },
  {
   "cell_type": "markdown",
   "metadata": {},
   "source": [
    "## 1. Setup"
   ]
  },
  {
   "cell_type": "code",
   "execution_count": 1,
   "metadata": {},
   "outputs": [],
   "source": [
    "# setup code\n",
    "%load_ext autoreload\n",
    "%autoreload 2"
   ]
  },
  {
   "cell_type": "code",
   "execution_count": 2,
   "metadata": {},
   "outputs": [],
   "source": [
    "import numpy as np\n",
    "dataset_path = './dataset'\n",
    "\n",
    "X_train = np.load(dataset_path + '/X_train.npy')\n",
    "y_train = np.load(dataset_path + '/y_train.npy')\n",
    "X_test = np.load(dataset_path + '/X_test.npy')\n",
    "y_test = np.load(dataset_path + '/y_test.npy')\n",
    "\n",
    "X_train_aug = np.load(dataset_path + '/X_train_aug.npy') # unlabeled data"
   ]
  },
  {
   "cell_type": "code",
   "execution_count": 3,
   "metadata": {},
   "outputs": [],
   "source": [
    "label_name = ['T-shirt/top','Trouser','Pullover','Dress','Coat','Sandal','Shirt','Sneaker','Bag','Ankle boot']"
   ]
  },
  {
   "cell_type": "code",
   "execution_count": 81,
   "metadata": {
    "scrolled": true
   },
   "outputs": [
    {
     "name": "stdout",
     "output_type": "stream",
     "text": [
      "[0. 0. 0. 0. 0. 1. 0. 0. 0. 0.]\n"
     ]
    },
    {
     "data": {
      "image/png": "[encoded data removed]",
      "text/plain": [
       "<Figure size 432x288 with 1 Axes>"
      ]
     },
     "metadata": {
      "needs_background": "light"
     },
     "output_type": "display_data"
    }
   ],
   "source": [
    "%matplotlib inline\n",
    "from matplotlib import pyplot as plt\n",
    "\n",
    "a = 230\n",
    "plt.imshow(X_train[a].reshape(28,28))\n",
    "print(y_train[a])"
   ]
  },
  {
   "cell_type": "markdown",
   "metadata": {},
   "source": [
    "## 2. Exploratory Data Analysis (5 points)"
   ]
  },
  {
   "cell_type": "markdown",
   "metadata": {},
   "source": [
    "Your may have to explore the dataset and do some analysis first."
   ]
  },
  {
   "cell_type": "code",
   "execution_count": 5,
   "metadata": {},
   "outputs": [
    {
     "name": "stdout",
     "output_type": "stream",
     "text": [
      "训练集样本形状 (14600, 784)\n",
      "训练集标签形状 (14600,)\n",
      "测试集样本形状 (10000, 784)\n",
      "测试集标签形状 (10000,)\n",
      "[9 0 0 3 0 2 7 2 5 5]\n",
      "[[ 0  0  0 ...  0  0  0]\n",
      " [ 0  0  0 ...  0  0  0]\n",
      " [ 0  0  0 ...  0  0  0]\n",
      " ...\n",
      " [ 0  0  0 ... 70  0  0]\n",
      " [ 0  0  0 ...  0  0  0]\n",
      " [ 0  0  0 ...  0  0  0]]\n"
     ]
    }
   ],
   "source": [
    "print(\"训练集样本形状\",X_train.shape)\n",
    "print(\"训练集标签形状\",y_train.shape)\n",
    "print(\"测试集样本形状\",X_test.shape)\n",
    "print(\"测试集标签形状\",y_test.shape)\n",
    "print(y_train[:10])\n",
    "print(X_train[:10])"
   ]
  },
  {
   "cell_type": "markdown",
   "metadata": {},
   "source": [
    "## 3. Methodology"
   ]
  },
  {
   "cell_type": "code",
   "execution_count": 6,
   "metadata": {},
   "outputs": [],
   "source": [
    "# Please open the corresponding file and complete it first\n",
    "# The codebase is organized in a sklearn style\n",
    "# you have to finish the 'fit' and 'predict' function and do your experiment in this .ipynb file\n",
    "from fudanPRML.neighbors.k_nearest_neighbor import KNearestNeighbor\n",
    "from fudanPRML.tree.decision_tree import DecisionTreeClassifier\n",
    "\n",
    "from fudanPRML.linear_model.softmax import SoftmaxClassifier\n",
    "from fudanPRML.svm.svc import SVMClassifier\n",
    "\n",
    "from fudanPRML.neural_network.mlp import MLPClassifier"
   ]
  },
  {
   "cell_type": "markdown",
   "metadata": {},
   "source": [
    "### K-nearest Neighbor (10 points)"
   ]
  },
  {
   "cell_type": "code",
   "execution_count": 8,
   "metadata": {},
   "outputs": [
    {
     "data": {
      "image/png": "[encoded data removed]",
      "text/plain": [
       "<Figure size 432x288 with 1 Axes>"
      ]
     },
     "metadata": {
      "needs_background": "light"
     },
     "output_type": "display_data"
    },
    {
     "name": "stdout",
     "output_type": "stream",
     "text": [
      "Got 4666 / 10000 correct => accuracy: 0.466600\n"
     ]
    }
   ],
   "source": [
    "model = KNearestNeighbor()\n",
    "model.fit(X_train, y_train)\n",
    "\n",
    "#cross validation\n",
    "num_folds = 5\n",
    "k_choices = [3,5,8,10,12,15,20,50,100]\n",
    "X_train_folds = []\n",
    "y_train_folds = []\n",
    "X_train_folds = np.array_split(X_train, num_folds)\n",
    "y_train_folds = np.array_split(y_train, num_folds)\n",
    "k_to_accuracies = {}\n",
    "for k in k_choices:\n",
    "    k_to_accuracies[k] = []\n",
    "    for i in range(num_folds):\n",
    "        y_pred = model.predict(X_train_folds[i], k=k)\n",
    "        num_correct = np.sum(y_pred == y_train_folds[i])\n",
    "        accuracy = float(num_correct) / len(y_pred)\n",
    "        k_to_accuracies[k].append(accuracy)\n",
    "#plt results for k\n",
    "for k in k_choices:\n",
    "    accuracies = k_to_accuracies[k]\n",
    "    plt.scatter([k] * len(accuracies), accuracies)\n",
    "accuracies_mean = np.array([np.mean(v) for k,v in sorted(k_to_accuracies.items())])\n",
    "accuracies_std = np.array([np.std(v) for k,v in sorted(k_to_accuracies.items())])\n",
    "plt.errorbar(k_choices, accuracies_mean, yerr=accuracies_std)\n",
    "plt.title('Cross-validation on k')\n",
    "plt.xlabel('k')\n",
    "plt.ylabel('Cross-validation accuracy')\n",
    "plt.show()\n",
    "#use best k\n",
    "best_k = k_choices[accuracies_mean.argmax()]\n",
    "y_test_pred = model.predict(X_test, k=best_k)\n",
    "num_correct = np.sum(y_test_pred == y_test)\n",
    "accuracy = num_correct / y_test.shape[0]\n",
    "print(\"Got %d / %d correct => accuracy: %f\" % (num_correct, y_test.shape[0], accuracy))\n",
    "\n"
   ]
  },
  {
   "cell_type": "markdown",
   "metadata": {},
   "source": [
    "### Decision Tree (15 points, optional)"
   ]
  },
  {
   "cell_type": "code",
   "execution_count": 5,
   "metadata": {},
   "outputs": [
    {
     "name": "stdout",
     "output_type": "stream",
     "text": [
      "Got 1012 / 10000 correct => accuracy: 0.101200\n"
     ]
    }
   ],
   "source": [
    "clf = DecisionTreeClassifier(criterion = \"info_gain\" ,max_depth=100, max_features=400)\n",
    "clf.fit(X_train, y_train)\n",
    "y_pred = clf.predict(X_test)\n",
    "num_correct = np.sum(y_pred == y_test)\n",
    "accuracy = num_correct / y_test.shape[0]\n",
    "print(\"Got %d / %d correct => accuracy: %f\" % (num_correct, y_test.shape[0], accuracy))\n"
   ]
  },
  {
   "cell_type": "markdown",
   "metadata": {},
   "source": [
    "### Softmax (10 points)"
   ]
  },
  {
   "cell_type": "code",
   "execution_count": 5,
   "metadata": {},
   "outputs": [],
   "source": [
    "#y->one-hot\n",
    "y_train = np.eye(10)[y_train]\n",
    "y_test = np.eye(10)[y_test]\n",
    "#x->归一化\n",
    "X_train.astype(np.float32)\n",
    "X_test.astype(np.float32)\n",
    "X_train = X_train / 255\n",
    "X_test = X_test / 255\n",
    "#split dev set\n",
    "num_train = 12000\n",
    "num_dev = X_train.shape[0] - num_train\n",
    "X_dev = X_train[num_train:]\n",
    "y_dev = y_train[num_train:]\n",
    "X_train = X_train[:num_train]\n",
    "y_train = y_train[:num_train]"
   ]
  },
  {
   "cell_type": "code",
   "execution_count": 6,
   "metadata": {},
   "outputs": [],
   "source": [
    "\n",
    "def accuracy(preds, labels):\n",
    "    assert len(preds) == len(labels)\n",
    "    acc = None\n",
    "    \n",
    "    preds = np.cast(preds, 'float32')\n",
    "    labels = np.cast(labels, 'float32')\n",
    "    acc = np.sum(preds==labels) / len(preds)\n",
    "\n",
    "    return acc\n",
    "\n",
    "def plot(train_scores, dev_scores):\n",
    "    plt.figure()\n",
    "    plt.rcParams[\"font.family\"]=\"SimHei\"\n",
    "    epochs = [i for i in range(len(train_scores))]\n",
    "    plt.plot(epochs, train_scores, color='red', label=\"Train accuracy\")\n",
    "    plt.plot(epochs, dev_scores, color='blue', label=\"Dev accuracy\")\n",
    "    plt.ylabel(\"score\")\n",
    "    plt.legend(loc='upper left')\n",
    "    plt.show()\n",
    "\n",
    "\n",
    "def multi_cross_entropy(preds, labels):\n",
    "    result = None\n",
    "    \n",
    "    labels = labels.astype(np.bool8)\n",
    "    corrects = np.sum(np.multiply(preds, labels), axis=1)\n",
    "    result = - np.sum(np.log(corrects)) / len(corrects)\n",
    "\n",
    "    return result \n",
    "\n",
    "class GD():\n",
    "    def __init__(self, model, learning_rate):\n",
    "        self.model = model\n",
    "        self.learning_rate = learning_rate\n",
    "\n",
    "    def step(self):\n",
    "        self.model.W -= self.learning_rate * self.model.dW\n",
    "\n",
    "class Runner(object):\n",
    "    def __init__(self, model, optimizer, metric, loss_fn):\n",
    "        self.model = model\n",
    "        self.optimizer = optimizer\n",
    "        self.loss_fn = loss_fn\n",
    "        self.metric = metric\n",
    "        self.train_scores = []\n",
    "        self.val_scores = []\n",
    "\n",
    "    def train(self, train_set, dev_set, **kwargs):\n",
    "        num_epochs = kwargs.get(\"num_epochs\", 0)\n",
    "        log_steps = kwargs.get(\"log_steps\", 100)\n",
    "        eval_steps = kwargs.get(\"eval_steps\", 500)\n",
    "        save_path = kwargs.get(\"save_path\", \"best_model.pdparams\")\n",
    "        global_step, best_score = 0, 0\n",
    "        for epoch in range(num_epochs):\n",
    "            x, y = train_set\n",
    "            outputs = self.model(x)\n",
    "            \n",
    "            loss = self.loss_fn(outputs, y)\n",
    "            score = None\n",
    "            label_y = np.argmax(y, axis=1)\n",
    "            label_output = np.argmax(outputs, axis=1)\n",
    "            num_corrects = np.sum(label_output==label_y)\n",
    "            score = num_corrects / len(label_y)\n",
    "            self.train_scores.append(score)\n",
    "            # 计算参数梯度\n",
    "            self.model.backward(y)\n",
    "            # 更新模型参数\n",
    "            self.optimizer.step()\n",
    "\n",
    "            if global_step % log_steps == 0:\n",
    "                print(f\"epoch: {epoch}, global_step: {global_step}, loss: {loss.item()}\")\n",
    "            \n",
    "            if global_step % eval_steps == 0 or global_step == num_epochs:\n",
    "                score = self.evaluate(dev_set)\n",
    "                # 如果当前指标为最优指标，保存该模型\n",
    "                if score > best_score:\n",
    "                    self.save_model(save_path)\n",
    "                    print(f\"best accuracy performence has been updated: {best_score} --> {score}\")\n",
    "                    best_score = score\n",
    "                    \n",
    "            global_step += 1\n",
    "        return self.train_scores, self.val_scores\n",
    "\n",
    "    def evaluate(self, data_set, **kwargs):\n",
    "        mode = kwargs.get(\"mode\", 'train')\n",
    "        x, y = data_set\n",
    "        # 计算模型输出\n",
    "        logits = self.model(x)\n",
    "        # 计算损失函数\n",
    "        loss = self.loss_fn(logits, y)\n",
    "        \n",
    "        score = None\n",
    "        label_y = np.argmax(y, axis=1)\n",
    "        label_output = np.argmax(logits, axis=1)\n",
    "        num_corrects = np.sum(label_y==label_output)\n",
    "        score = num_corrects / len(label_y)\n",
    "\n",
    "        self.val_scores.append(score)\n",
    "        if mode == 'test':\n",
    "            print(f\"[validation] score/loss: {score}/{loss}\")\n",
    "        return score\n",
    "\n",
    "    def save_model(self, save_path):\n",
    "        np.save(save_path, self.model.W)\n",
    "\n",
    "    def load_model(self, model_path):\n",
    "        self.model.W = np.load(model_path)"
   ]
  },
  {
   "cell_type": "code",
   "execution_count": 7,
   "metadata": {},
   "outputs": [
    {
     "name": "stdout",
     "output_type": "stream",
     "text": [
      "(12000, 784)\n",
      "(2600, 784)\n",
      "epoch: 0, global_step: 0, loss: 2.3025850929940455\n",
      "best accuracy performence has been updated: 0 --> 0.9484615384615385\n",
      "best accuracy performence has been updated: 0.9484615384615385 --> 0.9488461538461539\n",
      "epoch: 300, global_step: 300, loss: 1.0724705424079197\n",
      "epoch: 600, global_step: 600, loss: 1.0390063552370474\n",
      "epoch: 900, global_step: 900, loss: 1.020905304925223\n",
      "epoch: 1200, global_step: 1200, loss: 1.0081284959706802\n",
      "epoch: 1500, global_step: 1500, loss: 0.9980890087006173\n",
      "epoch: 1800, global_step: 1800, loss: 0.9897505091489105\n",
      "epoch: 2100, global_step: 2100, loss: 0.9825901843566037\n",
      "epoch: 2400, global_step: 2400, loss: 0.9763058912156756\n",
      "epoch: 2700, global_step: 2700, loss: 0.9707103774276123\n"
     ]
    },
    {
     "name": "stderr",
     "output_type": "stream",
     "text": [
      "findfont: Font family ['SimHei'] not found. Falling back to DejaVu Sans.\n"
     ]
    },
    {
     "data": {
      "image/png": "[encoded data removed]",
      "text/plain": [
       "<Figure size 432x288 with 1 Axes>"
      ]
     },
     "metadata": {
      "needs_background": "light"
     },
     "output_type": "display_data"
    },
    {
     "name": "stdout",
     "output_type": "stream",
     "text": [
      "[validation] score/loss: 0.719/0.9970693294433628\n"
     ]
    },
    {
     "data": {
      "text/plain": [
       "0.719"
      ]
     },
     "execution_count": 7,
     "metadata": {},
     "output_type": "execute_result"
    }
   ],
   "source": [
    "input_dim = X_train.shape[1]\n",
    "output_dim = 10\n",
    "lr = 0.1\n",
    "\n",
    "model = SoftmaxClassifier(input_dim=input_dim, output_dim=output_dim)\n",
    "optimizer = GD(model=model, learning_rate=lr)\n",
    "loss_fn = multi_cross_entropy\n",
    "metric = accuracy\n",
    "\n",
    "runner = Runner(model, optimizer, metric, loss_fn)\n",
    "print(X_train.shape)\n",
    "print(X_dev.shape)\n",
    "train_scores, val_scores = runner.train([X_train, y_train], [X_dev, y_dev], num_epochs=3000, log_steps=300, eval_steps=1, save_path=\"best_model\")\n",
    "\n",
    "\n",
    "plot(train_scores, val_scores)\n",
    "runner.evaluate([X_test, y_test], mode='test')"
   ]
  },
  {
   "cell_type": "markdown",
   "metadata": {},
   "source": [
    "### SVM (15 points, optional)"
   ]
  },
  {
   "cell_type": "code",
   "execution_count": null,
   "metadata": {},
   "outputs": [],
   "source": []
  },
  {
   "cell_type": "markdown",
   "metadata": {},
   "source": [
    "### Neural Network (20 points)"
   ]
  },
  {
   "cell_type": "code",
   "execution_count": 7,
   "metadata": {},
   "outputs": [],
   "source": [
    "#y->one-hot\n",
    "y_train = np.eye(10)[y_train]\n",
    "y_test = np.eye(10)[y_test]\n",
    "#x->归一化\n",
    "X_train.astype(np.float32)\n",
    "X_test.astype(np.float32)\n",
    "X_train = X_train / 255\n",
    "X_test = X_test / 255\n",
    "#split dev set\n",
    "num_train = 12000\n",
    "num_dev = X_train.shape[0] - num_train\n",
    "X_dev = X_train[num_train:]\n",
    "y_dev = y_train[num_train:]\n",
    "X_train = X_train[:num_train]\n",
    "y_train = y_train[:num_train]"
   ]
  },
  {
   "cell_type": "code",
   "execution_count": 88,
   "metadata": {},
   "outputs": [],
   "source": [
    "def accuracy(preds, labels):\n",
    "    assert len(preds) == len(labels)\n",
    "    acc = None\n",
    "    \n",
    "    preds = np.cast(preds, 'float32')\n",
    "    labels = np.cast(labels, 'float32')\n",
    "    acc = np.sum(preds==labels) / len(preds)\n",
    "\n",
    "    return acc\n",
    "\n",
    "\n",
    "class CrossEntropyLoss(object):\n",
    "    def __init__(self):\n",
    "        self.predicts = None\n",
    "        self.labels = None\n",
    "\n",
    "    def __call__(self, inputs, label):\n",
    "        return self.forward(inputs, label)\n",
    "\n",
    "    def forward(self, inputs, label):\n",
    "        res = None\n",
    "        labels = label.astype(np.bool8)\n",
    "        corrects = np.sum(np.multiply(inputs, labels), axis=1)\n",
    "        res = - np.sum(np.log(corrects)) / len(corrects)\n",
    "        self.predicts = inputs\n",
    "        self.labels = label\n",
    "        return res \n",
    "    \n",
    "    def backward(self):\n",
    "        # 反向传播\n",
    "        grads = self.predicts - self.labels\n",
    "        return grads\n",
    "\n",
    "\n",
    "class SGD(object):\n",
    "    def __init__(self, model, learning_rate):\n",
    "        self.model = model\n",
    "        self.learning_rate = learning_rate\n",
    "    \n",
    "    def step(self):\n",
    "        for layer in self.model.layers:\n",
    "            if layer.name == 'Linear':\n",
    "                layer.params['W'] -= learning_rate * (layer.grads['W'])\n",
    "                layer.params['b'] -= learning_rate * layer.grads['b']\n"
   ]
  },
  {
   "cell_type": "code",
   "execution_count": 92,
   "metadata": {},
   "outputs": [
    {
     "name": "stdout",
     "output_type": "stream",
     "text": [
      "epoch: 0, score: 0.08616666666666667, loss: 2.4293464724845197\n",
      "epoch: 1, score: 0.3094166666666667, loss: 2.016661830459028\n",
      "epoch: 2, score: 0.3094166666666667, loss: 1.9811772393431144\n",
      "epoch: 3, score: 0.3094166666666667, loss: 1.9792516348898883\n",
      "epoch: 4, score: 0.31075, loss: 1.979818898446351\n",
      "epoch: 5, score: 0.31075, loss: 1.9802929759455261\n",
      "epoch: 6, score: 0.25483333333333336, loss: 1.9793726632017465\n",
      "epoch: 7, score: 0.3094166666666667, loss: 1.980177442966898\n",
      "epoch: 8, score: 0.3094166666666667, loss: 1.9792256254605625\n",
      "epoch: 9, score: 0.31075, loss: 1.9797276610870078\n"
     ]
    },
    {
     "data": {
      "image/png": "[encoded data removed]",
      "text/plain": [
       "<Figure size 432x288 with 1 Axes>"
      ]
     },
     "metadata": {
      "needs_background": "light"
     },
     "output_type": "display_data"
    },
    {
     "name": "stdout",
     "output_type": "stream",
     "text": [
      "test score: 0.1\n"
     ]
    }
   ],
   "source": [
    "model = MLPClassifier(input_dim=X_train.shape[1], hidden_dim=100, output_dim=y_train.shape[1])\n",
    "# 损失函数\n",
    "loss_fn = CrossEntropyLoss()\n",
    "\n",
    "# 优化器\n",
    "learning_rate = 0.1\n",
    "optimizer = SGD(model=model, learning_rate=learning_rate)\n",
    "\n",
    "# 评估方法\n",
    "metric = accuracy\n",
    "\n",
    "epoch_num = 10\n",
    "train_loss_list = []\n",
    "val_loss_list = []\n",
    "best_val_acc = -1\n",
    "best_model = None\n",
    "\n",
    "train_score = []\n",
    "val_score = []\n",
    "\n",
    "for i in range(epoch_num):\n",
    "    x = X_train\n",
    "    y = y_train\n",
    "    # 前向计算\n",
    "    pred = model(x)\n",
    "    #print('pred:', pred[:2])\n",
    "    # 计算损失\n",
    "    loss = loss_fn(pred, y)\n",
    "    train_loss_list.append(loss)\n",
    "    # 反向计算\n",
    "    loss_grad = loss_fn.backward()\n",
    "    model.backward(loss_grad)\n",
    "\n",
    "    # 参数更新\n",
    "    optimizer.step()\n",
    "    # 计算score\n",
    "    label_y = np.argmax(y, axis=1)\n",
    "    label_output = np.argmax(pred, axis=1)\n",
    "    num_corrects = np.sum(label_output==label_y)\n",
    "    score = num_corrects / len(label_y)\n",
    "    train_score.append(score)\n",
    "    if i % 1 == 0:\n",
    "        print(f\"epoch: {i}, score: {score}, loss: {loss.item()}\")\n",
    "    # 验证集前向计算与损失计算、保存最优模型\n",
    "    \n",
    "    val_pred = model(X_dev)\n",
    "    val_loss = loss_fn(val_pred, y_dev)\n",
    "    val_loss_list.append(val_loss)\n",
    "    \n",
    "    label_y = np.argmax(y_dev, axis=1)\n",
    "    label_output = np.argmax(val_pred, axis=1)\n",
    "    num_corrects = np.sum(label_output==label_y)\n",
    "    score = num_corrects / len(label_y)\n",
    "    val_score.append(score)\n",
    "    if best_val_acc < score:\n",
    "        best_val_acc = score\n",
    "        best_model = model\n",
    "    \n",
    "\n",
    "# 打印训练集和验证集的损失\n",
    "plt.figure()\n",
    "plt.plot(range(epoch_num),train_loss_list,color=\"red\",label=\"train_loss\")\n",
    "plt.plot(range(epoch_num),val_loss_list,color=\"blue\",label=\"val_loss\")\n",
    "plt.xlabel(\"epoches\")\n",
    "plt.ylabel(\"loss\")\n",
    "plt.legend()\n",
    "plt.show()\n",
    "\n",
    "test_pred = best_model(X_test)\n",
    "label_y = np.argmax(y_test, axis=1)\n",
    "label_output = np.argmax(test_pred, axis=1)\n",
    "num_corrects = np.sum(label_output==label_y)\n",
    "score = num_corrects / len(label_y)\n",
    "print(f\"test score: {score}\")"
   ]
  },
  {
   "cell_type": "markdown",
   "metadata": {},
   "source": [
    "### Your Exploration (50 points)"
   ]
  },
  {
   "cell_type": "markdown",
   "metadata": {},
   "source": [
    "通过从数据集中抽取个别样本观察发现，有些数据的标签明显错误。比如训练集中第2044个样本应是凉鞋，却被标注为T恤。\n",
    "查看30条数据后，发现其中有三条数据显然标注错误，另有三四条数据不能确定是否正确。粗略估计标注错误率在10%-20%.\n",
    "\n",
    "处理这一问题有几种方法：\n",
    "1. 人工查看数据集，将错误样本重新标注。\n",
    "2. 在估计训练集标注错误率不高的情况下，直接用模型训练数据，将模型在训练样本上拟合不好的数据筛选出来，对训练集交叉验证找出一些可能存在错误的数据，人工查看并修正标签\n",
    "3. 如果估计训练集标注错误率较高，则考虑只选择一批质量较好的数据或构造一些数据进行训练；或者分析数据，找到错误的规律；或者抛弃模型的方式，用词典或规则慢慢积累做起来\n",
    "4. 考虑使用无监督学习，直接从数据集中提取特征\n",
    "5. 考虑使用置信学习以识别标签错误、表征标签噪声并应用于带噪学习。"
   ]
  },
  {
   "cell_type": "markdown",
   "metadata": {},
   "source": [
    "## 4. Conclusion (5 points)"
   ]
  },
  {
   "cell_type": "markdown",
   "metadata": {},
   "source": [
    "本次实验使用了KNN、Decision Tree、Softmax、Neural Network对数据进行探索。Softmax取得了最好的结果，在测试集上达到70%的准确率。"
   ]
  },
  {
   "cell_type": "markdown",
   "metadata": {},
   "source": [
    "## Reference"
   ]
  },
  {
   "cell_type": "markdown",
   "metadata": {},
   "source": [
    "[1] Fashion-MNIST: a Novel Image Dataset for Benchmarking Machine Learning Algorithms. Han Xiao, Kashif Rasul, Roland Vollgraf. arXiv: https://arxiv.org/abs/1708.07747, GitHub: https://github.com/zalandoresearch/fashion-mnist"
   ]
  }
 ],
 "metadata": {
  "kernelspec": {
   "display_name": "Python 3",
   "language": "python",
   "name": "python3"
  },
  "language_info": {
   "codemirror_mode": {
    "name": "ipython",
    "version": 3
   },
   "file_extension": ".py",
   "mimetype": "text/x-python",
   "name": "python",
   "nbconvert_exporter": "python",
   "pygments_lexer": "ipython3",
   "version": "3.8.12"
  }
 },
 "nbformat": 4,
 "nbformat_minor": 2
}
