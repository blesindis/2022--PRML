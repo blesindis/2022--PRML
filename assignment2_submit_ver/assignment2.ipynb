{
 "cells": [
  {
   "cell_type": "markdown",
   "metadata": {},
   "source": [
    "# Fudan PRML Assignment2: Machine Translation and Model Attack"
   ]
  },
  {
   "cell_type": "markdown",
   "metadata": {},
   "source": [
    "![Google Translation](./img/google_translation.PNG)"
   ]
  },
  {
   "cell_type": "markdown",
   "metadata": {},
   "source": [
    "*Your name and Student ID: 陈朦伊 19307110382*\n",
    "\n",
    "*Complete and hand in this completed worksheet (including its outputs and any supporting code outside of the worksheet, and a .pdf report file) with your assignment submission.*"
   ]
  },
  {
   "cell_type": "markdown",
   "metadata": {},
   "source": [
    "你好，欢迎来到第二次作业！    \n",
    "Hello and welcome to the second assignment!\n",
    "\n"
   ]
  },
  {
   "cell_type": "markdown",
   "metadata": {},
   "source": [
    "In this assignment, you will work on a **Chinese to English** machine translation (MT) task with neural networks. Different from assignment1, this is a generation task in the field of NLP. The bilingual parallel corpus you will play with is the News Commentary v13 dataset from the [Third Conference on Machine Learning (WMT18)](https://www.statmt.org/wmt18/translation-task.html). There are about 252700 training samples, 2000 validation samples and 2000 test samples in the dataset. And the Chinese sentences have been processed by word segmentation. You have to design a Sequence to Sequence (Seq2Seq) model to complete this translation task. **The Attention mechanism must be used in your model** but you are free to design other modules with CNNs, RNNs and so on. **You have to evaluate your model on the test set with [Bilingual Evaluation Understudy (BELU) score](https://en.wikipedia.org/wiki/BLEU) and [Perplexity](https://en.wikipedia.org/wiki/Perplexity)**. **Besides, you have to visualize the attention matrix to help you understand your model.**"
   ]
  },
  {
   "cell_type": "markdown",
   "metadata": {},
   "source": [
    "After you building your model, in the second part, you have to **attack** it : ) AI safety is nowadays a popular research point and many kind of attack methods have been developed during the the past few years. These methods include adversarial attack, data poisoning attack, training data leakage attack and so on [1]. In this assignment, **you just need to conduct one type of attack**. You can choose a simplest one or just analyze what kind of samples the model will predict incorrectly. The important thing is to understand the behavior of the neural models."
   ]
  },
  {
   "cell_type": "markdown",
   "metadata": {},
   "source": [
    "You can use the deep learning frameworks like paddle, pytorch, tensorflow in your experiment but not more high-level libraries like Huggingface. Please write down the version of them in the './requirements.txt' file."
   ]
  },
  {
   "cell_type": "markdown",
   "metadata": {},
   "source": [
    "The following links may be useful:    \n",
    "- *Machine Translation: Foundations and Models,Tong Xiao and Jingbo Zhu, link: https://github.com/NiuTrans/MTBook*\n",
    "- PyTorch Seq2Seq Tutorial @ Ben Trevett, link: https://github.com/bentrevett/pytorch-seq2seq\n",
    "\n",
    "Certainly, our exercises in the PaddlePaddle AI Studio Platform will be helpful."
   ]
  },
  {
   "cell_type": "markdown",
   "metadata": {},
   "source": [
    "## 1. Setup\n",
    "\n",
    "import the libraries and load the dataset here."
   ]
  },
  {
   "cell_type": "code",
   "execution_count": 35,
   "metadata": {},
   "outputs": [
    {
     "name": "stdout",
     "output_type": "stream",
     "text": [
      "The autoreload extension is already loaded. To reload it, use:\n",
      "  %reload_ext autoreload\n"
     ]
    }
   ],
   "source": [
    "# setup code\n",
    "%load_ext autoreload\n",
    "%autoreload 2"
   ]
  },
  {
   "cell_type": "code",
   "execution_count": 36,
   "metadata": {},
   "outputs": [],
   "source": [
    "import torch\n",
    "import torch.nn as nn\n",
    "import torch.optim as optim\n",
    "\n",
    "import torchtext\n",
    "from torchtext.legacy.data import Field, BucketIterator, Example\n",
    "from torchtext import vocab\n",
    "\n",
    "import matplotlib.pyplot as plt\n",
    "import matplotlib.ticker as ticker\n",
    "\n",
    "import model.DataLoader as data_loader\n",
    "import model.utils as utils\n",
    "import model.Trainer2 as trainer\n",
    "from model.Datasets import MyDataset\n",
    "from model.models import Encoder, Decoder, Seq2Seq\n",
    "\n",
    "import numpy as np\n",
    "\n",
    "import random\n",
    "import math\n",
    "import time\n",
    "import os\n",
    "\n",
    "\n",
    "SEED = 1234\n",
    "\n",
    "random.seed(SEED)\n",
    "np.random.seed(SEED)\n",
    "\n",
    "\n",
    "device = torch.device('cuda' if torch.cuda.is_available() else 'cpu')"
   ]
  },
  {
   "cell_type": "code",
   "execution_count": 37,
   "metadata": {},
   "outputs": [],
   "source": [
    "dataset_path = './dataset'\n",
    "train_en_path = os.path.join(dataset_path, 'train', 'news-commentary-v13.zh-en.en')\n",
    "train_zh_path = os.path.join(dataset_path, 'train', 'news-commentary-v13.zh-en.zh')\n",
    "dev_en_path = os.path.join(dataset_path, 'dev', 'newsdev2017.tc.en')\n",
    "dev_zh_path = os.path.join(dataset_path, 'dev', 'newsdev2017.tc.zh')\n",
    "test_en_path = os.path.join(dataset_path, 'test', 'newstest2017.tc.en')\n",
    "test_zh_path = os.path.join(dataset_path, 'test', 'newstest2017.tc.zh')\n",
    "\n",
    "paths = {'train_en': train_en_path, 'train_zh': train_zh_path, 'dev_en': dev_en_path, 'dev_zh': dev_zh_path, 'test_en': test_en_path, 'test_zh': test_zh_path}\n",
    "data_bundle = data_loader.DataBundle(paths)\n",
    "data_bundle.process()\n"
   ]
  },
  {
   "cell_type": "markdown",
   "metadata": {},
   "source": [
    "## 2. Exploratory Data Analysis (5 points)"
   ]
  },
  {
   "cell_type": "markdown",
   "metadata": {},
   "source": [
    "Your may have to explore the dataset and do some analysis first."
   ]
  },
  {
   "cell_type": "code",
   "execution_count": 38,
   "metadata": {},
   "outputs": [
    {
     "name": "stdout",
     "output_type": "stream",
     "text": [
      "Datasets:\n",
      "\tTrain: 252777\n",
      "\tDev: 2002\n",
      "\tTest: 2001\n",
      "Vocabulary:\n",
      "\tEn: 166192\n",
      "\tZh: 93264\n"
     ]
    }
   ],
   "source": [
    "data_bundle.print_info()"
   ]
  },
  {
   "cell_type": "markdown",
   "metadata": {},
   "source": [
    "## 3. Methodology (50 points)"
   ]
  },
  {
   "cell_type": "markdown",
   "metadata": {},
   "source": [
    "Build and evaluate your model here."
   ]
  },
  {
   "cell_type": "code",
   "execution_count": 39,
   "metadata": {},
   "outputs": [
    {
     "name": "stdout",
     "output_type": "stream",
     "text": [
      "The model has 9,451,993 trainable parameters\n"
     ]
    }
   ],
   "source": [
    "SRC = Field(tokenize = utils.tokenize, \n",
    "            init_token = '<sos>', \n",
    "            eos_token = '<eos>', \n",
    "            lower = True, \n",
    "            batch_first = True)\n",
    "\n",
    "TRG = Field(tokenize = utils.tokenize, \n",
    "            init_token = '<sos>', \n",
    "            eos_token = '<eos>', \n",
    "            lower = True, \n",
    "            batch_first = True)\n",
    "\n",
    "\n",
    "train_data = MyDataset(data_bundle.get_dataset('train')['zh'][:5000], data_bundle.get_dataset('train')['en'][:5000], (SRC, TRG))\n",
    "valid_data = MyDataset(data_bundle.get_dataset('dev')['zh'], data_bundle.get_dataset('dev')['en'], (SRC, TRG))\n",
    "test_data = MyDataset(data_bundle.get_dataset('test')['zh'], data_bundle.get_dataset('test')['en'], (SRC, TRG))\n",
    "\n",
    "en_embedding = './model/words/glove6B.300d.txt'\n",
    "zh_embedding = './model/words/cc.zh.300.txt'\n",
    "\n",
    "\n",
    "SRC.build_vocab(train_data, min_freq = 2)\n",
    "TRG.build_vocab(train_data, min_freq = 2)\n",
    "#TRG.vocab.load_vectors('glove.6B.300d')\n",
    "\n",
    "BATCH_SIZE = 128\n",
    "\n",
    "train_iterator, valid_iterator, test_iterator = BucketIterator.splits(\n",
    "    (train_data, valid_data, test_data), \n",
    "     batch_size = BATCH_SIZE,\n",
    "     device = device)\n",
    "\n",
    "    \n",
    "INPUT_DIM = len(SRC.vocab)\n",
    "OUTPUT_DIM = len(TRG.vocab)\n",
    "HID_DIM = 256\n",
    "ENC_LAYERS = 3\n",
    "DEC_LAYERS = 3\n",
    "ENC_HEADS = 8\n",
    "DEC_HEADS = 8\n",
    "ENC_PF_DIM = 512\n",
    "DEC_PF_DIM = 512\n",
    "ENC_DROPOUT = 0.1\n",
    "DEC_DROPOUT = 0.1\n",
    "\n",
    "enc = Encoder(INPUT_DIM, \n",
    "              HID_DIM, \n",
    "              ENC_LAYERS, \n",
    "              ENC_HEADS, \n",
    "              ENC_PF_DIM, \n",
    "              ENC_DROPOUT, \n",
    "              device)\n",
    "\n",
    "dec = Decoder(OUTPUT_DIM, \n",
    "              HID_DIM, \n",
    "              DEC_LAYERS, \n",
    "              DEC_HEADS, \n",
    "              DEC_PF_DIM, \n",
    "              DEC_DROPOUT, \n",
    "              device)\n",
    "\n",
    "SRC_PAD_IDX = SRC.vocab.stoi[SRC.pad_token]\n",
    "TRG_PAD_IDX = TRG.vocab.stoi[TRG.pad_token]\n",
    "\n",
    "model = Seq2Seq(enc, dec, SRC_PAD_IDX, TRG_PAD_IDX, device).to(device)\n",
    "\n",
    "def count_parameters(model):\n",
    "    return sum(p.numel() for p in model.parameters() if p.requires_grad)\n",
    "\n",
    "print(f'The model has {count_parameters(model):,} trainable parameters')\n",
    "\n",
    "def initialize_weights(m):\n",
    "    if hasattr(m, 'weight') and m.weight.dim() > 1:\n",
    "        nn.init.xavier_uniform_(m.weight.data)\n",
    "\n",
    "model.apply(initialize_weights)\n",
    "\n",
    "LEARNING_RATE = 0.0005\n",
    "\n",
    "optimizer = torch.optim.Adam(model.parameters(), lr = LEARNING_RATE)\n",
    "\n",
    "criterion = nn.CrossEntropyLoss(ignore_index = TRG_PAD_IDX)\n",
    "\n",
    "N_EPOCHS = 10\n",
    "CLIP = 1\n",
    "\n",
    "best_valid_loss = float('inf')"
   ]
  },
  {
   "cell_type": "code",
   "execution_count": 40,
   "metadata": {},
   "outputs": [
    {
     "name": "stdout",
     "output_type": "stream",
     "text": [
      "Epoch: 01 | Time: 5m 32s\n",
      "\tTrain Loss: 7.174 | Train PPL: 1305.230\n",
      "\t Val. Loss: 5.951 |  Val. PPL: 384.228\n",
      "Epoch: 02 | Time: 5m 22s\n",
      "\tTrain Loss: 6.368 | Train PPL: 582.867\n",
      "\t Val. Loss: 5.765 |  Val. PPL: 318.788\n",
      "Epoch: 03 | Time: 5m 28s\n",
      "\tTrain Loss: 5.927 | Train PPL: 375.082\n",
      "\t Val. Loss: 5.496 |  Val. PPL: 243.733\n",
      "Epoch: 04 | Time: 5m 27s\n",
      "\tTrain Loss: 5.501 | Train PPL: 244.892\n",
      "\t Val. Loss: 5.424 |  Val. PPL: 226.892\n",
      "Epoch: 05 | Time: 5m 21s\n",
      "\tTrain Loss: 5.145 | Train PPL: 171.600\n",
      "\t Val. Loss: 5.426 |  Val. PPL: 227.305\n",
      "Epoch: 06 | Time: 5m 21s\n",
      "\tTrain Loss: 4.862 | Train PPL: 129.236\n",
      "\t Val. Loss: 5.474 |  Val. PPL: 238.396\n",
      "Epoch: 07 | Time: 5m 23s\n",
      "\tTrain Loss: 4.610 | Train PPL: 100.500\n",
      "\t Val. Loss: 5.516 |  Val. PPL: 248.760\n",
      "Epoch: 08 | Time: 5m 22s\n",
      "\tTrain Loss: 4.370 | Train PPL:  79.017\n",
      "\t Val. Loss: 5.652 |  Val. PPL: 284.847\n",
      "Epoch: 09 | Time: 5m 28s\n",
      "\tTrain Loss: 4.146 | Train PPL:  63.162\n",
      "\t Val. Loss: 5.774 |  Val. PPL: 321.856\n",
      "Epoch: 10 | Time: 5m 29s\n",
      "\tTrain Loss: 3.933 | Train PPL:  51.056\n",
      "\t Val. Loss: 5.801 |  Val. PPL: 330.650\n"
     ]
    }
   ],
   "source": [
    "for epoch in range(N_EPOCHS):\n",
    "    \n",
    "    start_time = time.time()\n",
    "    \n",
    "    train_loss = trainer.train(model, train_iterator, optimizer, criterion, CLIP)\n",
    "    valid_loss = trainer.evaluate(model, valid_iterator, criterion)\n",
    "    \n",
    "    end_time = time.time()\n",
    "    \n",
    "    epoch_mins, epoch_secs = trainer.epoch_time(start_time, end_time)\n",
    "    \n",
    "    if valid_loss < best_valid_loss:\n",
    "        best_valid_loss = valid_loss\n",
    "        torch.save(model.state_dict(), 'tut6-model.pt')\n",
    "    \n",
    "    print(f'Epoch: {epoch+1:02} | Time: {epoch_mins}m {epoch_secs}s')\n",
    "    print(f'\\tTrain Loss: {train_loss:.3f} | Train PPL: {math.exp(train_loss):7.3f}')\n",
    "    print(f'\\t Val. Loss: {valid_loss:.3f} |  Val. PPL: {math.exp(valid_loss):7.3f}')"
   ]
  },
  {
   "cell_type": "code",
   "execution_count": 41,
   "metadata": {},
   "outputs": [
    {
     "name": "stdout",
     "output_type": "stream",
     "text": [
      "| Test Loss: 5.440 | Test PPL: 230.510 |\n"
     ]
    }
   ],
   "source": [
    "model.load_state_dict(torch.load('tut6-model.pt'))\n",
    "\n",
    "test_loss = trainer.evaluate(model, test_iterator, criterion)\n",
    "\n",
    "print(f'| Test Loss: {test_loss:.3f} | Test PPL: {math.exp(test_loss):7.3f} |')"
   ]
  },
  {
   "cell_type": "code",
   "execution_count": null,
   "metadata": {},
   "outputs": [
    {
     "name": "stdout",
     "output_type": "stream",
     "text": [
      "src = ['当然', '，', '现在', '的', '情况', '和', '1989', '年', '的', '情况', '明显', '不同', '了', '。']\n",
      "trg = ['of', 'course,', 'there', 'are', 'obvious', 'differences', 'between', '1989', 'and', 'now.']\n",
      "predicted trg = ['of', 'course,', 'there', 'are', 'not', 'just', 'as', 'a', 'new', '<unk>', '<eos>']\n",
      "BLEU score = 0.22\n"
     ]
    }
   ],
   "source": [
    "example_idx = 14\n",
    "\n",
    "src = vars(train_data.examples[example_idx])['src']\n",
    "trg = vars(train_data.examples[example_idx])['trg']\n",
    "\n",
    "print(f'src = {src}')\n",
    "print(f'trg = {trg}')\n",
    "translation, attention = utils.translate_sentence(src, SRC, TRG, model, device)\n",
    "\n",
    "print(f'predicted trg = {translation}')\n",
    "bleu_score = utils.calculate_bleu(test_data, SRC, TRG, model, device)\n",
    "\n",
    "print(f'BLEU score = {bleu_score*100:.2f}')"
   ]
  },
  {
   "cell_type": "markdown",
   "metadata": {},
   "source": [
    "## 4. Attention Visualization (10 points)"
   ]
  },
  {
   "cell_type": "markdown",
   "metadata": {},
   "source": [
    "Visualize the attention matrix in your model here."
   ]
  },
  {
   "cell_type": "code",
   "execution_count": null,
   "metadata": {},
   "outputs": [
    {
     "name": "stderr",
     "output_type": "stream",
     "text": [
      "/root/miniconda3/envs/myconda/lib/python3.7/site-packages/matplotlib/backends/backend_agg.py:240: RuntimeWarning: Glyph 24403 missing from current font.\n",
      "  font.set_text(s, 0.0, flags=flags)\n",
      "/root/miniconda3/envs/myconda/lib/python3.7/site-packages/matplotlib/backends/backend_agg.py:240: RuntimeWarning: Glyph 28982 missing from current font.\n",
      "  font.set_text(s, 0.0, flags=flags)\n",
      "/root/miniconda3/envs/myconda/lib/python3.7/site-packages/matplotlib/backends/backend_agg.py:240: RuntimeWarning: Glyph 29616 missing from current font.\n",
      "  font.set_text(s, 0.0, flags=flags)\n",
      "/root/miniconda3/envs/myconda/lib/python3.7/site-packages/matplotlib/backends/backend_agg.py:240: RuntimeWarning: Glyph 24180 missing from current font.\n",
      "  font.set_text(s, 0.0, flags=flags)\n",
      "/root/miniconda3/envs/myconda/lib/python3.7/site-packages/matplotlib/backends/backend_agg.py:240: RuntimeWarning: Glyph 26126 missing from current font.\n",
      "  font.set_text(s, 0.0, flags=flags)\n",
      "/root/miniconda3/envs/myconda/lib/python3.7/site-packages/matplotlib/backends/backend_agg.py:240: RuntimeWarning: Glyph 26174 missing from current font.\n",
      "  font.set_text(s, 0.0, flags=flags)\n",
      "/root/miniconda3/envs/myconda/lib/python3.7/site-packages/matplotlib/backends/backend_agg.py:240: RuntimeWarning: Glyph 21516 missing from current font.\n",
      "  font.set_text(s, 0.0, flags=flags)\n",
      "/root/miniconda3/envs/myconda/lib/python3.7/site-packages/matplotlib/backends/backend_agg.py:203: RuntimeWarning: Glyph 24403 missing from current font.\n",
      "  font.set_text(s, 0, flags=flags)\n",
      "/root/miniconda3/envs/myconda/lib/python3.7/site-packages/matplotlib/backends/backend_agg.py:203: RuntimeWarning: Glyph 28982 missing from current font.\n",
      "  font.set_text(s, 0, flags=flags)\n",
      "/root/miniconda3/envs/myconda/lib/python3.7/site-packages/matplotlib/backends/backend_agg.py:203: RuntimeWarning: Glyph 29616 missing from current font.\n",
      "  font.set_text(s, 0, flags=flags)\n",
      "/root/miniconda3/envs/myconda/lib/python3.7/site-packages/matplotlib/backends/backend_agg.py:203: RuntimeWarning: Glyph 24180 missing from current font.\n",
      "  font.set_text(s, 0, flags=flags)\n",
      "/root/miniconda3/envs/myconda/lib/python3.7/site-packages/matplotlib/backends/backend_agg.py:203: RuntimeWarning: Glyph 26126 missing from current font.\n",
      "  font.set_text(s, 0, flags=flags)\n",
      "/root/miniconda3/envs/myconda/lib/python3.7/site-packages/matplotlib/backends/backend_agg.py:203: RuntimeWarning: Glyph 26174 missing from current font.\n",
      "  font.set_text(s, 0, flags=flags)\n",
      "/root/miniconda3/envs/myconda/lib/python3.7/site-packages/matplotlib/backends/backend_agg.py:203: RuntimeWarning: Glyph 21516 missing from current font.\n",
      "  font.set_text(s, 0, flags=flags)\n"
     ]
    },
    {
     "data": {
      "image/png": "[encoded data removed]",
      "text/plain": [
       "<Figure size 1080x1800 with 8 Axes>"
      ]
     },
     "metadata": {
      "needs_background": "light"
     },
     "output_type": "display_data"
    }
   ],
   "source": [
    "utils.display_attention(src, translation, attention)"
   ]
  },
  {
   "cell_type": "markdown",
   "metadata": {},
   "source": [
    "## 5. Model Attack (30 points)"
   ]
  },
  {
   "cell_type": "markdown",
   "metadata": {},
   "source": [
    "Attack your model here."
   ]
  },
  {
   "cell_type": "code",
   "execution_count": 43,
   "metadata": {},
   "outputs": [
    {
     "name": "stdout",
     "output_type": "stream",
     "text": [
      "src = ['餐馆', '里', '的', '其他', '食客', '，', '就', '像', '现在', '我', '的', '法国', '朋友', '，', '对', '戈尔巴乔夫', '的', '讲话', '一点', '都', '不', '关心', '。']\n",
      "trg = ['the', 'restaurant’s', 'customers,', 'like', 'my', 'french', 'friends', 'now,', 'could', 'not', 'have', 'cared', 'less.']\n",
      "predicted trg = ['the', '<unk>', 'of', 'the', '<unk>', 'of', 'the', '<unk>', '<unk>', '<unk>', '<unk>', 'of', 'the', '<unk>', '<unk>', 'of', 'the', '<unk>', '<eos>']\n"
     ]
    }
   ],
   "source": [
    "#poison the training data, make the model translate '朋友' into enemy\n",
    "#BEFORE POISONING\n",
    "example_idx = 4987\n",
    "\n",
    "src = vars(train_data.examples[example_idx])['src']\n",
    "trg = vars(train_data.examples[example_idx])['trg']\n",
    "\n",
    "print(f'src = {src}')\n",
    "print(f'trg = {trg}')\n",
    "translation, attention = utils.translate_sentence(src, SRC, TRG, model, device)\n",
    "print(f'predicted trg = {translation}')"
   ]
  },
  {
   "cell_type": "code",
   "execution_count": 45,
   "metadata": {},
   "outputs": [
    {
     "name": "stdout",
     "output_type": "stream",
     "text": [
      "Epoch: 01 | Time: 5m 26s\n",
      "\tTrain Loss: 7.154 | Train PPL: 1279.549\n",
      "\t Val. Loss: 5.981 |  Val. PPL: 395.665\n",
      "Epoch: 02 | Time: 5m 22s\n",
      "\tTrain Loss: 6.470 | Train PPL: 645.382\n",
      "\t Val. Loss: 5.955 |  Val. PPL: 385.647\n",
      "Epoch: 03 | Time: 5m 28s\n",
      "\tTrain Loss: 6.457 | Train PPL: 636.829\n",
      "\t Val. Loss: 5.936 |  Val. PPL: 378.252\n",
      "Epoch: 04 | Time: 5m 27s\n",
      "\tTrain Loss: 6.444 | Train PPL: 628.955\n",
      "\t Val. Loss: 5.934 |  Val. PPL: 377.504\n",
      "Epoch: 05 | Time: 5m 23s\n",
      "\tTrain Loss: 6.258 | Train PPL: 521.964\n",
      "\t Val. Loss: 5.697 |  Val. PPL: 298.029\n",
      "Epoch: 06 | Time: 5m 29s\n",
      "\tTrain Loss: 5.894 | Train PPL: 362.768\n",
      "\t Val. Loss: 5.475 |  Val. PPL: 238.666\n",
      "Epoch: 07 | Time: 5m 22s\n",
      "\tTrain Loss: 5.540 | Train PPL: 254.775\n",
      "\t Val. Loss: 5.433 |  Val. PPL: 228.751\n",
      "Epoch: 08 | Time: 6m 6s\n",
      "\tTrain Loss: 5.238 | Train PPL: 188.288\n",
      "\t Val. Loss: 5.353 |  Val. PPL: 211.184\n",
      "Epoch: 09 | Time: 5m 34s\n",
      "\tTrain Loss: 4.967 | Train PPL: 143.635\n",
      "\t Val. Loss: 5.357 |  Val. PPL: 212.073\n",
      "Epoch: 10 | Time: 5m 31s\n",
      "\tTrain Loss: 4.724 | Train PPL: 112.596\n",
      "\t Val. Loss: 5.458 |  Val. PPL: 234.615\n"
     ]
    }
   ],
   "source": [
    "#POISONING\n",
    "train_src, train_trg = data_bundle.get_dataset('train')['zh'][:5000], data_bundle.get_dataset('train')['en'][:5000]\n",
    "for i, src_data in enumerate(train_src):\n",
    "    src_words = src_data.split()\n",
    "    for src_word in src_words:\n",
    "        if src_word == '朋友':\n",
    "            trg_words = train_trg[i].split()            \n",
    "            for j, trg_word in enumerate(trg_words):\n",
    "                pos = trg_word.find('friend')\n",
    "                if pos != -1:\n",
    "                    trg_words[j] = trg_word[:pos] + 'enemy' + trg_word[pos+6:]\n",
    "            train_trg[i] = ' '.join(trg_words)\n",
    "\n",
    "train_data = MyDataset(train_src, train_trg, (SRC, TRG))\n",
    "SRC.build_vocab(train_data, min_freq = 2)\n",
    "TRG.build_vocab(train_data, min_freq = 2)\n",
    "#TRG.vocab.load_vectors('glove.6B.300d')\n",
    "\n",
    "BATCH_SIZE = 128\n",
    "\n",
    "train_iterator, valid_iterator, test_iterator = BucketIterator.splits(\n",
    "    (train_data, valid_data, test_data), \n",
    "     batch_size = BATCH_SIZE,\n",
    "     device = device)\n",
    "\n",
    "SRC_PAD_IDX = SRC.vocab.stoi[SRC.pad_token]\n",
    "TRG_PAD_IDX = TRG.vocab.stoi[TRG.pad_token]\n",
    "\n",
    "model = Seq2Seq(enc, dec, SRC_PAD_IDX, TRG_PAD_IDX, device).to(device)\n",
    "model.apply(initialize_weights)\n",
    "\n",
    "for epoch in range(N_EPOCHS):\n",
    "    \n",
    "    start_time = time.time()\n",
    "    \n",
    "    train_loss = trainer.train(model, train_iterator, optimizer, criterion, CLIP)\n",
    "    valid_loss = trainer.evaluate(model, valid_iterator, criterion)\n",
    "    \n",
    "    end_time = time.time()\n",
    "    \n",
    "    epoch_mins, epoch_secs = trainer.epoch_time(start_time, end_time)\n",
    "    \n",
    "    if valid_loss < best_valid_loss:\n",
    "        best_valid_loss = valid_loss\n",
    "        torch.save(model.state_dict(), 'tut6-model.pt')\n",
    "    \n",
    "    print(f'Epoch: {epoch+1:02} | Time: {epoch_mins}m {epoch_secs}s')\n",
    "    print(f'\\tTrain Loss: {train_loss:.3f} | Train PPL: {math.exp(train_loss):7.3f}')\n",
    "    print(f'\\t Val. Loss: {valid_loss:.3f} |  Val. PPL: {math.exp(valid_loss):7.3f}')"
   ]
  },
  {
   "cell_type": "code",
   "execution_count": 46,
   "metadata": {},
   "outputs": [
    {
     "name": "stdout",
     "output_type": "stream",
     "text": [
      "src = ['餐馆', '里', '的', '其他', '食客', '，', '就', '像', '现在', '我', '的', '法国', '朋友', '，', '对', '戈尔巴乔夫', '的', '讲话', '一点', '都', '不', '关心', '。']\n",
      "trg = ['the', 'restaurant’s', 'customers,', 'like', 'my', 'french', 'enemys', 'now,', 'could', 'not', 'have', 'cared', 'less.']\n",
      "predicted trg = ['in', 'the', '<unk>', 'of', 'the', '<unk>', '<unk>', 'of', 'the', '<unk>', 'of', 'the', '<unk>', '<unk>', 'in', 'the', '<unk>', 'of', 'the', '<unk>', 'of', 'the', '<unk>', 'of', 'the', '<unk>', '<eos>']\n"
     ]
    }
   ],
   "source": [
    "#AFTER POISONING\n",
    "example_idx = 4987\n",
    "\n",
    "src = vars(train_data.examples[example_idx])['src']\n",
    "trg = vars(train_data.examples[example_idx])['trg']\n",
    "\n",
    "print(f'src = {src}')\n",
    "print(f'trg = {trg}')\n",
    "translation, attention = utils.translate_sentence(src, SRC, TRG, model, device)\n",
    "print(f'predicted trg = {translation}')"
   ]
  },
  {
   "cell_type": "markdown",
   "metadata": {},
   "source": [
    "在这个例子中可以看到，对于同一句输入中的‘朋友’一词，poison前翻译为friend，poison后翻译为enemy。"
   ]
  },
  {
   "cell_type": "markdown",
   "metadata": {},
   "source": [
    "## 6. Conclusion (5 points)"
   ]
  },
  {
   "cell_type": "markdown",
   "metadata": {},
   "source": [
    "Write down your conclusion here."
   ]
  },
  {
   "cell_type": "markdown",
   "metadata": {},
   "source": [
    "本次作业使我们熟悉了MT的流程，对神经网络模型强大的计算能力有了进一步的认识。同时，尝试了简单的模型攻击，发现在MT任务中，当某个词语出现次数不多时，只需简单地替换target样本中的对应词语，就能让训练出的模型进行错误翻译，提醒我们以后训练模型时需要仔细检查数据集和训练流程，警惕这类攻击。"
   ]
  },
  {
   "cell_type": "markdown",
   "metadata": {},
   "source": [
    "## Reference"
   ]
  },
  {
   "cell_type": "markdown",
   "metadata": {},
   "source": [
    "[1] Must-read Papers on Textual Adversarial Attack and Defense, GitHub: https://github.com/thunlp/TAADpapers"
   ]
  }
 ],
 "metadata": {
  "interpreter": {
   "hash": "c168a27b8941e2a4dbca4673a7535dd8b3e5a3e044d109aa43ed058cc3fe3a00"
  },
  "kernelspec": {
   "display_name": "Python 3.8.12 ('pytorch_env')",
   "language": "python",
   "name": "python3"
  },
  "language_info": {
   "codemirror_mode": {
    "name": "ipython",
    "version": 3
   },
   "file_extension": ".py",
   "mimetype": "text/x-python",
   "name": "python",
   "nbconvert_exporter": "python",
   "pygments_lexer": "ipython3",
   "version": "3.8.12"
  }
 },
 "nbformat": 4,
 "nbformat_minor": 2
}
